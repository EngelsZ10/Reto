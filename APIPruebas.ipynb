{
 "cells": [
  {
   "cell_type": "code",
   "execution_count": 1,
   "metadata": {},
   "outputs": [],
   "source": [
    "import face_recognition\n",
    "from PIL import Image\n",
    "import numpy as np\n",
    "from io import BytesIO\n",
    "import base64\n",
    "from email.mime.image import MIMEImage"
   ]
  },
  {
   "cell_type": "code",
   "execution_count": 2,
   "metadata": {},
   "outputs": [],
   "source": [
    "def crop_image(img, coordinates):\n",
    "    top, right, bottom, left = coordinates\n",
    "    box = (left, top, right, bottom)\n",
    "    cropped_img = img.crop(box)\n",
    "    return cropped_img\n"
   ]
  },
  {
   "cell_type": "code",
   "execution_count": 3,
   "metadata": {},
   "outputs": [],
   "source": [
    "def getEncodings(imgBase64):\n",
    "    im_bytes = base64.b64decode(imgBase64)\n",
    "    im_file = BytesIO(im_bytes)  \n",
    "    image = Image.open(im_file)\n",
    "    image.show()\n",
    "    load = np.array(image)\n",
    "    face_locations = face_recognition.face_locations(load)\n",
    "    print(face_locations)\n",
    "    result = []\n",
    "    for i in face_locations:\n",
    "        cropped_img = crop_image(image, i)\n",
    "        \n",
    "        load = np.array(cropped_img)\n",
    "        try:\n",
    "            encoding = list(face_recognition.face_encodings(load)[0])\n",
    "        except:\n",
    "            cropped_img.show()\n",
    "            print(face_recognition.face_encodings(load))\n",
    "            continue\n",
    "        img_byte_array = BytesIO()\n",
    "        cropped_img.save(img_byte_array, format=\"JPEG\")\n",
    "        base64_image = base64.b64encode(img_byte_array.getvalue())\n",
    "        result.append({\"face\":'data:image/JPEG;base64,' + str(base64_image)[2:-1], \"encoding\":encoding})\n",
    "    return result"
   ]
  },
  {
   "cell_type": "code",
   "execution_count": null,
   "metadata": {},
   "outputs": [],
   "source": []
  },
  {
   "cell_type": "code",
   "execution_count": 8,
   "metadata": {},
   "outputs": [
    {
     "name": "stdout",
     "output_type": "stream",
     "text": [
      "[(263, 428, 449, 242)]\n"
     ]
    }
   ],
   "source": [
    "img = \"faces/manolo.jpeg\"\n",
    "\n",
    "with open(img, \"rb\") as f:\n",
    "    imgBase64 = base64.b64encode(f.read())\n",
    "\n",
    "a = "
   ]
  },
  {
   "cell_type": "code",
   "execution_count": 23,
   "metadata": {},
   "outputs": [
    {
     "name": "stdout",
     "output_type": "stream",
     "text": [
      "[(554, 1067, 1016, 605)]\n",
      "[(480, 849, 1035, 295)]\n",
      "[(206, 562, 527, 241)]\n"
     ]
    }
   ],
   "source": [
    "imagenes = [\n",
    "    \"timtest1.jpg\",\n",
    "    \"timtest2.jpg\",\n",
    "    \"tomtest1.jpg\"\n",
    "]\n",
    "caras = []\n",
    "for img in imagenes:\n",
    "    with open(f\"faces/{img}\", \"rb\") as f:\n",
    "        imgBase64 = base64.b64encode(f.read())\n",
    "    caras.append({\"id\":img, \"encoding\": getEncodings(imgBase64)[0][\"encoding\"]})"
   ]
  },
  {
   "cell_type": "code",
   "execution_count": 24,
   "metadata": {},
   "outputs": [],
   "source": [
    "import pickle\n",
    "\n",
    "with open('carasPrueba.pkl', 'wb') as file: \n",
    "      \n",
    "    # A new file will be created \n",
    "    pickle.dump(caras, file) "
   ]
  },
  {
   "cell_type": "code",
   "execution_count": null,
   "metadata": {},
   "outputs": [],
   "source": []
  }
 ],
 "metadata": {
  "kernelspec": {
   "display_name": "base",
   "language": "python",
   "name": "python3"
  },
  "language_info": {
   "codemirror_mode": {
    "name": "ipython",
    "version": 3
   },
   "file_extension": ".py",
   "mimetype": "text/x-python",
   "name": "python",
   "nbconvert_exporter": "python",
   "pygments_lexer": "ipython3",
   "version": "3.11.4"
  }
 },
 "nbformat": 4,
 "nbformat_minor": 2
}
